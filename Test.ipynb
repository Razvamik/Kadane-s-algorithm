{
 "cells": [
  {
   "cell_type": "markdown",
   "metadata": {},
   "source": [
    "# Описание задачи\n",
    "Найти непрерывный подассив в массиве, содержащий хотя бы одно число,\n",
    "который имеет наибольшую сумму.\n",
    "### Условия\n",
    "Необходимо написать программу с функцией findMaxSubArray(A),\n",
    "принимающей на вход массив целых чисел А ненулевой длины и\n",
    "возвращающей непрерывный подмассив массива А ненулевой длины,\n",
    "который имеет наибольшую сумму среди всех непрерывных\n",
    "подмассивов массива А.\n",
    "Язык программирования: python\n",
    "Использование дополнительных библиотек и функций: не разрешается\n",
    "### Пример\n",
    "На вход подается массив [-2,1,-3,4,-1,2,1,-5,4]\n",
    "На выходе функции ожидается массив [4,-1,2,1], имеющий максимальную\n",
    "сумму среди всех подмассивов равную 6."
   ]
  },
  {
   "cell_type": "code",
   "execution_count": 31,
   "metadata": {},
   "outputs": [],
   "source": [
    "# Kadane's algorithm\n",
    "def findMaxSubArray(A):\n",
    "    best_sum = 0\n",
    "    best_start = best_end = 0\n",
    "    current_sum = 0\n",
    "    for current_end, x in enumerate(A):\n",
    "        if current_sum <= 0:\n",
    "            current_start = current_end\n",
    "            current_sum = x\n",
    "        else:\n",
    "            current_sum += x\n",
    "\n",
    "        if current_sum > best_sum:\n",
    "            best_sum = current_sum\n",
    "            best_start = current_start\n",
    "            best_end = current_end + 1\n",
    "\n",
    "    return A[best_start:best_end]"
   ]
  },
  {
   "cell_type": "code",
   "execution_count": 32,
   "metadata": {},
   "outputs": [
    {
     "data": {
      "text/plain": [
       "[4, -1, 2, 1]"
      ]
     },
     "execution_count": 32,
     "metadata": {},
     "output_type": "execute_result"
    }
   ],
   "source": [
    "findMaxSubArray([-2,1,-3,4,-1,2,1,-5,4])"
   ]
  }
 ],
 "metadata": {
  "kernelspec": {
   "display_name": "Python 3",
   "language": "python",
   "name": "python3"
  },
  "language_info": {
   "codemirror_mode": {
    "name": "ipython",
    "version": 3
   },
   "file_extension": ".py",
   "mimetype": "text/x-python",
   "name": "python",
   "nbconvert_exporter": "python",
   "pygments_lexer": "ipython3",
   "version": "3.7.4"
  }
 },
 "nbformat": 4,
 "nbformat_minor": 2
}
